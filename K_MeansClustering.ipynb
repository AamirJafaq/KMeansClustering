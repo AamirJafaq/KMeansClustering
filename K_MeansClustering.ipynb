{
  "nbformat": 4,
  "nbformat_minor": 0,
  "metadata": {
    "colab": {
      "provenance": [],
      "toc_visible": true,
      "authorship_tag": "ABX9TyPZkUY+GZuGdrk5vGM5KJfe",
      "include_colab_link": true
    },
    "kernelspec": {
      "name": "python3",
      "display_name": "Python 3"
    },
    "language_info": {
      "name": "python"
    }
  },
  "cells": [
    {
      "cell_type": "markdown",
      "metadata": {
        "id": "view-in-github",
        "colab_type": "text"
      },
      "source": [
        "<a href=\"https://colab.research.google.com/github/AamirJafaq/KMeansClustering/blob/main/K_MeansClustering.ipynb\" target=\"_parent\"><img src=\"https://colab.research.google.com/assets/colab-badge.svg\" alt=\"Open In Colab\"/></a>"
      ]
    },
    {
      "cell_type": "markdown",
      "source": [
        "# K-Means Clustering"
      ],
      "metadata": {
        "id": "eHFpGIgUO5wk"
      }
    },
    {
      "cell_type": "markdown",
      "source": [
        "K-means clustering is an unsupervised learning algorithm used for data clustering, which groups unlabeled data points into groups or clusters. Among the different types of clustering algorithms such as exclusive, overlapping, hierarchical, and probabilistic, K-means is an example of an exclusive (or “hard”) clustering method. In this approach, each data point is assigned to exactly one cluster, meaning it cannot belong to multiple groups at the same time."
      ],
      "metadata": {
        "id": "2wYLCJztNdFK"
      }
    },
    {
      "cell_type": "code",
      "source": [],
      "metadata": {
        "id": "7Cppl7fJO4tH"
      },
      "execution_count": null,
      "outputs": []
    }
  ]
}